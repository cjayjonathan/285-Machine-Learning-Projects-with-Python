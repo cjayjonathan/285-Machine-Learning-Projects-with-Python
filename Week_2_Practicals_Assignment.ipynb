{
  "nbformat": 4,
  "nbformat_minor": 0,
  "metadata": {
    "colab": {
      "provenance": [],
      "authorship_tag": "ABX9TyNQCGIRyaECKRlzgGTBGPuN",
      "include_colab_link": true
    },
    "kernelspec": {
      "name": "python3",
      "display_name": "Python 3"
    },
    "language_info": {
      "name": "python"
    }
  },
  "cells": [
    {
      "cell_type": "markdown",
      "metadata": {
        "id": "view-in-github",
        "colab_type": "text"
      },
      "source": [
        "<a href=\"https://colab.research.google.com/github/cjayjonathan/285-Machine-Learning-Projects-with-Python/blob/main/Week_2_Practicals_Assignment.ipynb\" target=\"_parent\"><img src=\"https://colab.research.google.com/assets/colab-badge.svg\" alt=\"Open In Colab\"/></a>"
      ]
    },
    {
      "cell_type": "code",
      "source": [
        "import numpy as np\n",
        "\n",
        "# 1) Create a 1-D array going from 0 to 50 and an array from 10 to 50.\n",
        "array_0_50 = np.arange(51)\n",
        "array_10_50 = np.arange(10, 51)\n",
        "print(\"1-D array from 0 to 50:\", array_0_50)\n",
        "print(\"1-D array from 10 to 50:\", array_10_50)"
      ],
      "metadata": {
        "colab": {
          "base_uri": "https://localhost:8080/"
        },
        "id": "X9JMbsOvdc7c",
        "outputId": "913468d6-78f1-4222-babd-ad853238ea29"
      },
      "execution_count": 1,
      "outputs": [
        {
          "output_type": "stream",
          "name": "stdout",
          "text": [
            "1-D array from 0 to 50: [ 0  1  2  3  4  5  6  7  8  9 10 11 12 13 14 15 16 17 18 19 20 21 22 23\n",
            " 24 25 26 27 28 29 30 31 32 33 34 35 36 37 38 39 40 41 42 43 44 45 46 47\n",
            " 48 49 50]\n",
            "1-D array from 10 to 50: [10 11 12 13 14 15 16 17 18 19 20 21 22 23 24 25 26 27 28 29 30 31 32 33\n",
            " 34 35 36 37 38 39 40 41 42 43 44 45 46 47 48 49 50]\n"
          ]
        }
      ]
    },
    {
      "cell_type": "code",
      "source": [
        "# 2) Create a 1-D numpy array.\n",
        "one_d_array = np.array([1, 2, 3, 4, 5])\n",
        "print(\"\\nCreated 1-D array:\", one_d_array)"
      ],
      "metadata": {
        "colab": {
          "base_uri": "https://localhost:8080/"
        },
        "id": "D3_RTyQUeJJF",
        "outputId": "7bae88c9-5044-480e-fa25-f754f54fb479"
      },
      "execution_count": 2,
      "outputs": [
        {
          "output_type": "stream",
          "name": "stdout",
          "text": [
            "\n",
            "Created 1-D array: [1 2 3 4 5]\n"
          ]
        }
      ]
    },
    {
      "cell_type": "code",
      "source": [
        "# 3) Create a 2-D numpy array.\n",
        "two_d_array = np.array([[1, 2, 3], [4, 5, 6], [7, 8, 9]])\n",
        "print(\"\\nCreated 2-D array:\\n\", two_d_array)"
      ],
      "metadata": {
        "colab": {
          "base_uri": "https://localhost:8080/"
        },
        "id": "398PiGAoeVDs",
        "outputId": "75ad6f55-6db8-4f35-a8b0-8c93d6230bdc"
      },
      "execution_count": 3,
      "outputs": [
        {
          "output_type": "stream",
          "name": "stdout",
          "text": [
            "\n",
            "Created 2-D array:\n",
            " [[1 2 3]\n",
            " [4 5 6]\n",
            " [7 8 9]]\n"
          ]
        }
      ]
    },
    {
      "cell_type": "code",
      "source": [
        "# 4) Create two 2-D numpy arrays and do (+,-,/,*) operations on them.\n",
        "array_a = np.array([[1, 2], [3, 4]])\n",
        "array_b = np.array([[5, 6], [7, 8]])\n",
        "print(\"\\nArray A:\\n\", array_a)\n",
        "print(\"Array B:\\n\", array_b)\n",
        "print(\"Addition (A + B):\\n\", array_a + array_b)\n",
        "print(\"Subtraction (A - B):\\n\", array_a - array_b)\n",
        "print(\"Multiplication (A * B):\\n\", array_a * array_b)\n",
        "print(\"Division (A / B):\\n\", array_a / array_b)"
      ],
      "metadata": {
        "colab": {
          "base_uri": "https://localhost:8080/"
        },
        "id": "OJv1DcpRem7x",
        "outputId": "d7f4ab0d-c65d-49f6-c7c6-42343acd7ab7"
      },
      "execution_count": 4,
      "outputs": [
        {
          "output_type": "stream",
          "name": "stdout",
          "text": [
            "\n",
            "Array A:\n",
            " [[1 2]\n",
            " [3 4]]\n",
            "Array B:\n",
            " [[5 6]\n",
            " [7 8]]\n",
            "Addition (A + B):\n",
            " [[ 6  8]\n",
            " [10 12]]\n",
            "Subtraction (A - B):\n",
            " [[-4 -4]\n",
            " [-4 -4]]\n",
            "Multiplication (A * B):\n",
            " [[ 5 12]\n",
            " [21 32]]\n",
            "Division (A / B):\n",
            " [[0.2        0.33333333]\n",
            " [0.42857143 0.5       ]]\n"
          ]
        }
      ]
    },
    {
      "cell_type": "code",
      "source": [
        "# 5) Show an example of index operations on a 2-D array?\n",
        "print(\"\\nElement at index [1, 0] in 2-D array:\", two_d_array[1, 0])"
      ],
      "metadata": {
        "colab": {
          "base_uri": "https://localhost:8080/"
        },
        "id": "2RW4mHc1fpHl",
        "outputId": "504e8409-1368-46b7-8ff7-5577f898ea27"
      },
      "execution_count": 5,
      "outputs": [
        {
          "output_type": "stream",
          "name": "stdout",
          "text": [
            "\n",
            "Element at index [1, 0] in 2-D array: 4\n"
          ]
        }
      ]
    },
    {
      "cell_type": "code",
      "source": [
        "# 6) Show an example of slicing operation on a 2-D array?\n",
        "print(\"\\nSlice of 2-D array (first two rows, all columns):\\n\", two_d_array[:2, :])\n",
        "print(\"Slice of 2-D array (all rows, last two columns):\\n\", two_d_array[:, 1:])"
      ],
      "metadata": {
        "colab": {
          "base_uri": "https://localhost:8080/"
        },
        "id": "B5krE1cAi4bX",
        "outputId": "493aafd8-19ba-4bf6-8b5c-301097874a1e"
      },
      "execution_count": 6,
      "outputs": [
        {
          "output_type": "stream",
          "name": "stdout",
          "text": [
            "\n",
            "Slice of 2-D array (first two rows, all columns):\n",
            " [[1 2 3]\n",
            " [4 5 6]]\n",
            "Slice of 2-D array (all rows, last two columns):\n",
            " [[2 3]\n",
            " [5 6]\n",
            " [8 9]]\n"
          ]
        }
      ]
    },
    {
      "cell_type": "code",
      "source": [
        "# 7) Show an example of slicing operations on 1-D array?\n",
        "print(\"\\nSlice of 1-D array (elements from index 2 to 4):\", one_d_array[2:5])"
      ],
      "metadata": {
        "colab": {
          "base_uri": "https://localhost:8080/"
        },
        "id": "UlBcGoESkKD9",
        "outputId": "5e7cd98e-1618-42f0-fb2a-4ead1a283464"
      },
      "execution_count": 7,
      "outputs": [
        {
          "output_type": "stream",
          "name": "stdout",
          "text": [
            "\n",
            "Slice of 1-D array (elements from index 2 to 4): [3 4 5]\n"
          ]
        }
      ]
    },
    {
      "cell_type": "code",
      "source": [
        "# 8) Show an example of index operations on a 1-D array?\n",
        "print(\"\\nElement at index 3 in 1-D array:\", one_d_array[3])"
      ],
      "metadata": {
        "colab": {
          "base_uri": "https://localhost:8080/"
        },
        "id": "2Uu7m4sbuaGG",
        "outputId": "2c97d69b-ca6f-42cf-9d33-3725b847b1a5"
      },
      "execution_count": 8,
      "outputs": [
        {
          "output_type": "stream",
          "name": "stdout",
          "text": [
            "\n",
            "Element at index 3 in 1-D array: 4\n"
          ]
        }
      ]
    },
    {
      "cell_type": "code",
      "source": [
        "# 9) Create a random empty 2-D array and only ones 2-D array then show mathematical operations on them.\n",
        "random_empty_array = np.empty((2, 2)) # Note: np.empty creates an array with arbitrary values\n",
        "ones_array = np.ones((2, 2))\n",
        "print(\"\\nRandom (empty) 2-D array:\\n\", random_empty_array)\n",
        "print(\"Ones 2-D array:\\n\", ones_array)\n",
        "print(\"Addition (random_empty_array + ones_array):\\n\", random_empty_array + ones_array)\n",
        "print(\"Multiplication (random_empty_array * ones_array):\\n\", random_empty_array * ones_array)"
      ],
      "metadata": {
        "colab": {
          "base_uri": "https://localhost:8080/"
        },
        "id": "mdvnRMtPv9Wa",
        "outputId": "c08fb05b-8383-48b9-e784-0c0faf9d480b"
      },
      "execution_count": 9,
      "outputs": [
        {
          "output_type": "stream",
          "name": "stdout",
          "text": [
            "\n",
            "Random (empty) 2-D array:\n",
            " [[0.2        0.33333333]\n",
            " [0.42857143 0.5       ]]\n",
            "Ones 2-D array:\n",
            " [[1. 1.]\n",
            " [1. 1.]]\n",
            "Addition (random_empty_array + ones_array):\n",
            " [[1.2        1.33333333]\n",
            " [1.42857143 1.5       ]]\n",
            "Multiplication (random_empty_array * ones_array):\n",
            " [[0.2        0.33333333]\n",
            " [0.42857143 0.5       ]]\n"
          ]
        }
      ]
    },
    {
      "cell_type": "code",
      "execution_count": null,
      "metadata": {
        "id": "i0uMq25pdLKA"
      },
      "outputs": [],
      "source": [
        "\n",
        "\n",
        "\n",
        "\n",
        "\n",
        "\n"
      ]
    }
  ]
}