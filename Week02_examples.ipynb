{
  "cells": [
    {
      "cell_type": "markdown",
      "metadata": {
        "id": "view-in-github",
        "colab_type": "text"
      },
      "source": [
        "<a href=\"https://colab.research.google.com/github/cjayjonathan/285-Machine-Learning-Projects-with-Python/blob/main/Week02_examples.ipynb\" target=\"_parent\"><img src=\"https://colab.research.google.com/assets/colab-badge.svg\" alt=\"Open In Colab\"/></a>"
      ]
    },
    {
      "cell_type": "code",
      "execution_count": 1,
      "metadata": {
        "colab": {
          "base_uri": "https://localhost:8080/"
        },
        "id": "oFxHcaylQK5g",
        "outputId": "cdb1af39-fedb-48a2-c6b9-7970976566cc"
      },
      "outputs": [
        {
          "output_type": "stream",
          "name": "stdout",
          "text": [
            "5\n"
          ]
        },
        {
          "output_type": "execute_result",
          "data": {
            "text/plain": [
              "0"
            ]
          },
          "metadata": {},
          "execution_count": 1
        }
      ],
      "source": [
        "import numpy as np\n",
        "\n",
        "ar= np.array(5)\n",
        "\n",
        "print(ar)\n",
        "np.ndim(ar)\n"
      ]
    },
    {
      "cell_type": "code",
      "execution_count": 2,
      "metadata": {
        "id": "UfyZxa7bQK5l"
      },
      "outputs": [],
      "source": [
        "#Array creation\n",
        "import numpy as np\n",
        "a = np.array((1,2,3,4))\n",
        "b = np.array([1,2,3,4])\n"
      ]
    },
    {
      "cell_type": "code",
      "execution_count": 3,
      "metadata": {
        "colab": {
          "base_uri": "https://localhost:8080/"
        },
        "id": "CzMHzM3YQK5r",
        "outputId": "10bb4cdc-7faf-46ac-c082-28fcc28be7fd"
      },
      "outputs": [
        {
          "output_type": "execute_result",
          "data": {
            "text/plain": [
              "array([1, 2, 3, 4])"
            ]
          },
          "metadata": {},
          "execution_count": 3
        }
      ],
      "source": [
        "a"
      ]
    },
    {
      "cell_type": "code",
      "execution_count": 4,
      "metadata": {
        "colab": {
          "base_uri": "https://localhost:8080/"
        },
        "id": "4S7sk23fQK5s",
        "outputId": "67b6f615-7f95-4278-cb95-1d335a7edce8"
      },
      "outputs": [
        {
          "output_type": "execute_result",
          "data": {
            "text/plain": [
              "array([1, 2, 3, 4])"
            ]
          },
          "metadata": {},
          "execution_count": 4
        }
      ],
      "source": [
        "b"
      ]
    },
    {
      "cell_type": "code",
      "execution_count": 5,
      "metadata": {
        "colab": {
          "base_uri": "https://localhost:8080/"
        },
        "id": "yo-dHbiGQK5s",
        "outputId": "4865fef6-3638-4c98-8b7e-25333c1c2d53"
      },
      "outputs": [
        {
          "output_type": "stream",
          "name": "stdout",
          "text": [
            "[[0 0 0 0 0 0 0 0]\n",
            " [0 0 0 0 0 0 0 0]\n",
            " [0 0 0 0 0 0 0 0]\n",
            " [0 0 0 0 0 0 0 0]]\n"
          ]
        }
      ],
      "source": [
        "#numpy.ones(shape, dtype=float, order='C')\n",
        "\n",
        "import numpy as np\n",
        "ar=np.zeros( (4,8), dtype=np.int16 )\n",
        "print(ar)\n"
      ]
    },
    {
      "cell_type": "code",
      "execution_count": 6,
      "metadata": {
        "colab": {
          "base_uri": "https://localhost:8080/"
        },
        "id": "650WC5ecQK5y",
        "outputId": "272f71b6-6527-4e9c-ab35-7ede1f5cb58e"
      },
      "outputs": [
        {
          "output_type": "execute_result",
          "data": {
            "text/plain": [
              "dtype('int16')"
            ]
          },
          "metadata": {},
          "execution_count": 6
        }
      ],
      "source": [
        "ar.dtype"
      ]
    },
    {
      "cell_type": "code",
      "execution_count": 7,
      "metadata": {
        "colab": {
          "base_uri": "https://localhost:8080/"
        },
        "id": "QQSc5FeTQK5z",
        "outputId": "2bfaca8b-c1f5-4fc0-f2ce-a73202ab0eb4"
      },
      "outputs": [
        {
          "output_type": "stream",
          "name": "stdout",
          "text": [
            "[[2.47380915e-315 0.00000000e+000 1.54123330e+256]\n",
            " [1.94531707e+227 1.06098894e-153 8.19148733e+247]]\n"
          ]
        }
      ],
      "source": [
        "import numpy as np\n",
        "ar=np.empty( (2,3) )\n",
        "print(ar)\n"
      ]
    },
    {
      "cell_type": "code",
      "execution_count": 8,
      "metadata": {
        "colab": {
          "base_uri": "https://localhost:8080/"
        },
        "id": "MI31ZNLAQK50",
        "outputId": "a2064b03-976d-4959-fa7b-165f51545dab"
      },
      "outputs": [
        {
          "output_type": "stream",
          "name": "stdout",
          "text": [
            "[ 1  6 11 16 21 26]\n"
          ]
        }
      ],
      "source": [
        "import numpy as np\n",
        "ar=np.arange( 1,30,5)\n",
        "print(ar)\n"
      ]
    },
    {
      "cell_type": "code",
      "execution_count": 9,
      "metadata": {
        "colab": {
          "base_uri": "https://localhost:8080/"
        },
        "id": "IoBBMm7bQK51",
        "outputId": "5d3404c6-3451-4a08-87ca-4126ecab8e51"
      },
      "outputs": [
        {
          "output_type": "stream",
          "name": "stdout",
          "text": [
            "(2, 3, 4)\n"
          ]
        }
      ],
      "source": [
        "import numpy as np\n",
        "ar=np.array([[[ 1., 0., 0.,9], [ 0., 1., 2.,12], [ 1., 0., 0.,9]],\n",
        "             [[ 1., 0., 0.,9], [ 0., 1., 2.,12],[ 1., 0., 0.,9]]])\n",
        "print(np.shape(ar))\n"
      ]
    },
    {
      "cell_type": "code",
      "execution_count": 10,
      "metadata": {
        "colab": {
          "base_uri": "https://localhost:8080/"
        },
        "id": "c5As57jkQK57",
        "outputId": "bc966a05-1b9c-44d0-f8ce-b158e1fc2ea6"
      },
      "outputs": [
        {
          "output_type": "execute_result",
          "data": {
            "text/plain": [
              "24"
            ]
          },
          "metadata": {},
          "execution_count": 10
        }
      ],
      "source": [
        "np.size(ar)"
      ]
    },
    {
      "cell_type": "code",
      "execution_count": 11,
      "metadata": {
        "colab": {
          "base_uri": "https://localhost:8080/"
        },
        "id": "-dO0GwQNQK58",
        "outputId": "441f9a03-48ce-4bae-eec3-dc1dae212e3c"
      },
      "outputs": [
        {
          "output_type": "stream",
          "name": "stdout",
          "text": [
            "float64\n"
          ]
        }
      ],
      "source": [
        "import numpy as np\n",
        "ar=np.array([[ 1., 0., 0.],\n",
        "       [ 0., 1., 2.]])\n",
        "print(ar.dtype)\n"
      ]
    },
    {
      "cell_type": "code",
      "execution_count": 12,
      "metadata": {
        "colab": {
          "base_uri": "https://localhost:8080/"
        },
        "id": "V9Lio-rtQK59",
        "outputId": "5d788caa-514d-4fb9-a8b5-2be31d251d63"
      },
      "outputs": [
        {
          "output_type": "execute_result",
          "data": {
            "text/plain": [
              "array([[1., 0., 0.],\n",
              "       [0., 1., 2.]])"
            ]
          },
          "metadata": {},
          "execution_count": 12
        }
      ],
      "source": [
        "ar"
      ]
    },
    {
      "cell_type": "code",
      "execution_count": 13,
      "metadata": {
        "id": "zPGDvIiyQK59"
      },
      "outputs": [],
      "source": [
        "import numpy as np\n",
        "b = np.arange(24).reshape(4,3,2)\n",
        "#print(b)"
      ]
    },
    {
      "cell_type": "code",
      "execution_count": 14,
      "metadata": {
        "colab": {
          "base_uri": "https://localhost:8080/"
        },
        "id": "lsbUQ6YtQK6F",
        "outputId": "0f20469e-6502-4fd2-d522-c47de70dc5a9"
      },
      "outputs": [
        {
          "output_type": "execute_result",
          "data": {
            "text/plain": [
              "3"
            ]
          },
          "metadata": {},
          "execution_count": 14
        }
      ],
      "source": [
        "np.ndim(b)"
      ]
    },
    {
      "cell_type": "code",
      "execution_count": null,
      "metadata": {
        "id": "S9GYYYq8QK6F"
      },
      "outputs": [],
      "source": [
        "ar=np.array([ 1., 4., 0.])\n",
        "print(np.ndim(ar))"
      ]
    },
    {
      "cell_type": "code",
      "execution_count": null,
      "metadata": {
        "id": "7RFA6rFBQK6G"
      },
      "outputs": [],
      "source": [
        "#2d\n",
        "#Array has 1-D arrays as its elements is called a 2-D array.\n",
        "ar=np.array([[ 1.,4., 0.],\n",
        "[ 3., 1., 2.],[ 3., 1., 2.]])\n",
        "print(np.ndim(ar))\n"
      ]
    },
    {
      "cell_type": "code",
      "execution_count": null,
      "metadata": {
        "id": "Fe53PKHVQK6H"
      },
      "outputs": [],
      "source": [
        "#3d\n",
        "#similar logic with 2d\n",
        "#Array that has 2-D arrays (matrices) as its elements is called 3-D array.\n",
        "ar=np.array([[[ 1.,4., 0.],\n",
        "[ 3., 1., 2.],[ 3., 1., 2.]],[[ 1.,4., 0.],\n",
        "[ 3., 1., 2.],[ 3., 1., 2.]]])\n",
        "print(np.ndim(ar))\n"
      ]
    },
    {
      "cell_type": "code",
      "execution_count": null,
      "metadata": {
        "id": "t2hR_9jfQK6M"
      },
      "outputs": [],
      "source": [
        "import numpy as np\n",
        "ar=np.array([[ 1., 0., 0.],\n",
        "       [ 0., 1., True]])\n",
        "print(ar[1][2].dtype)\n",
        "print(ar)"
      ]
    },
    {
      "cell_type": "code",
      "execution_count": null,
      "metadata": {
        "id": "e6pqcONDQK6N"
      },
      "outputs": [],
      "source": [
        "import numpy as np\n",
        "ar=np.array([[ 1., 0., 0.],#3 columns x2 rows\n",
        "       [ 0., 1., 2.]])\n",
        "print(np.size(ar))\n"
      ]
    },
    {
      "cell_type": "code",
      "execution_count": null,
      "metadata": {
        "id": "U93EoxVcQK6N"
      },
      "outputs": [],
      "source": [
        "a = np.array( [20,30,40,50] )#elementwise\n",
        "b = np.arange( 4 )\n",
        "c=a-b"
      ]
    },
    {
      "cell_type": "code",
      "execution_count": null,
      "metadata": {
        "id": "9w2wRRnfQK6T"
      },
      "outputs": [],
      "source": [
        "b"
      ]
    },
    {
      "cell_type": "code",
      "execution_count": null,
      "metadata": {
        "id": "yfm3-Rs3QK6U"
      },
      "outputs": [],
      "source": [
        "c"
      ]
    },
    {
      "cell_type": "code",
      "execution_count": null,
      "metadata": {
        "id": "zAeLL4RUQK6V"
      },
      "outputs": [],
      "source": [
        "a = np.array( [20,30,40,50] )\n",
        "b = np.arange( 4 )\n",
        "c=a+b\n",
        "d=a**2"
      ]
    },
    {
      "cell_type": "code",
      "execution_count": null,
      "metadata": {
        "id": "bT5vEnbVQK6V"
      },
      "outputs": [],
      "source": [
        "c"
      ]
    },
    {
      "cell_type": "code",
      "execution_count": null,
      "metadata": {
        "id": "qpifer7RQK6b"
      },
      "outputs": [],
      "source": [
        "d"
      ]
    },
    {
      "cell_type": "code",
      "execution_count": null,
      "metadata": {
        "id": "XmkMJ5yjQK6b"
      },
      "outputs": [],
      "source": [
        "A = np.array( [[1,1],\n",
        "[0,1]] )\n",
        "B = np.array( [[2,0],\n",
        "[3,4]] )\n",
        "C=A*B\n",
        "print(C)\n"
      ]
    },
    {
      "cell_type": "code",
      "execution_count": null,
      "metadata": {
        "id": "8zeYzVSwQK6c"
      },
      "outputs": [],
      "source": [
        "#indexing slicing\n",
        "a = np.arange(10)**3\n",
        "print(a)\n",
        "\n"
      ]
    },
    {
      "cell_type": "code",
      "execution_count": null,
      "metadata": {
        "id": "mlUhtQk-QK6c"
      },
      "outputs": [],
      "source": [
        "a[2]\n"
      ]
    },
    {
      "cell_type": "code",
      "execution_count": null,
      "metadata": {
        "id": "ce1sqN8dQK6i"
      },
      "outputs": [],
      "source": [
        "a[2:5]"
      ]
    },
    {
      "cell_type": "code",
      "execution_count": null,
      "metadata": {
        "id": "OruZKDxuQK6j"
      },
      "outputs": [],
      "source": [
        "array1 = np.arange(12).reshape(4,3)#2d array\n",
        "print(array1)\n"
      ]
    },
    {
      "cell_type": "code",
      "execution_count": null,
      "metadata": {
        "id": "HS94Fdv4QK6j"
      },
      "outputs": [],
      "source": [
        "array1[3][1]"
      ]
    },
    {
      "cell_type": "code",
      "execution_count": null,
      "metadata": {
        "id": "IhDSxBUgQK6k"
      },
      "outputs": [],
      "source": [
        "array1 = np.arange(16).reshape(4,4)#array slicing\n",
        "print(array1)\n"
      ]
    },
    {
      "cell_type": "code",
      "execution_count": null,
      "metadata": {
        "id": "aIlQUxqaQK6q"
      },
      "outputs": [],
      "source": [
        "array1[0:2,1:3]"
      ]
    },
    {
      "cell_type": "code",
      "execution_count": null,
      "metadata": {
        "id": "vd1J7LQ1QK6r"
      },
      "outputs": [],
      "source": [
        "np.ndim(array1)"
      ]
    },
    {
      "cell_type": "code",
      "execution_count": null,
      "metadata": {
        "id": "gE1BjYj6QK6r"
      },
      "outputs": [],
      "source": [
        "np.ndim(array1[0:2,1:3])"
      ]
    },
    {
      "cell_type": "code",
      "execution_count": null,
      "metadata": {
        "id": "QG6-4kYCQK6s"
      },
      "outputs": [],
      "source": [
        "np.ndim(array1[0])"
      ]
    },
    {
      "cell_type": "code",
      "execution_count": null,
      "metadata": {
        "id": "PSQNF4tAQK6x"
      },
      "outputs": [],
      "source": [
        "A = np.array( [[1,1],\n",
        "    [0,1]] )\n",
        "B = np.array( [[2,0],\n",
        "    [3,4]] )\n",
        "C=A*B\n",
        "print(C)\n"
      ]
    },
    {
      "cell_type": "code",
      "execution_count": null,
      "metadata": {
        "id": "WTr4TsJEQK6y"
      },
      "outputs": [],
      "source": [
        "C[1][1]"
      ]
    },
    {
      "cell_type": "code",
      "execution_count": null,
      "metadata": {
        "id": "6Q0w-8rXQK6y"
      },
      "outputs": [],
      "source": [
        "a = np.arange(10)**3\n",
        "a"
      ]
    },
    {
      "cell_type": "code",
      "execution_count": null,
      "metadata": {
        "id": "B_c1godAQK60"
      },
      "outputs": [],
      "source": [
        "a[3]"
      ]
    },
    {
      "cell_type": "code",
      "execution_count": null,
      "metadata": {
        "id": "bttzxuuwQK66"
      },
      "outputs": [],
      "source": [
        "array1 = np.arange(16).reshape(4,4)"
      ]
    },
    {
      "cell_type": "code",
      "execution_count": null,
      "metadata": {
        "id": "LBreI1t9QK67"
      },
      "outputs": [],
      "source": [
        "array1"
      ]
    },
    {
      "cell_type": "code",
      "execution_count": null,
      "metadata": {
        "id": "BxwFh8N-QK68"
      },
      "outputs": [],
      "source": [
        "array1[0:2, 1:3]"
      ]
    },
    {
      "cell_type": "code",
      "source": [
        "#Create a 1-D array from 0 to 50\n",
        "array1 = np.arange(51)\n",
        "print(\"Array from 0 to 50:\")\n",
        "print(array1)"
      ],
      "metadata": {
        "colab": {
          "base_uri": "https://localhost:8080/"
        },
        "id": "nPTe1O0JWVH6",
        "outputId": "1fc1f57a-b705-4b80-97a7-8e4d4653c23e"
      },
      "execution_count": 5,
      "outputs": [
        {
          "output_type": "stream",
          "name": "stdout",
          "text": [
            "Array from 0 to 50:\n",
            "[ 0  1  2  3  4  5  6  7  8  9 10 11 12 13 14 15 16 17 18 19 20 21 22 23\n",
            " 24 25 26 27 28 29 30 31 32 33 34 35 36 37 38 39 40 41 42 43 44 45 46 47\n",
            " 48 49 50]\n"
          ]
        }
      ]
    },
    {
      "cell_type": "code",
      "source": [
        "#Create a 1-D array from 10 to 50\n",
        "array2 = np.arange(10, 51)\n",
        "print(\"\\nArray from 10 to 50:\")\n",
        "print(array2)"
      ],
      "metadata": {
        "colab": {
          "base_uri": "https://localhost:8080/"
        },
        "id": "r8vnu0KWWrV0",
        "outputId": "29acd227-757a-4bb2-8767-00a217c39362"
      },
      "execution_count": 7,
      "outputs": [
        {
          "output_type": "stream",
          "name": "stdout",
          "text": [
            "\n",
            "Array from 10 to 50:\n",
            "[10 11 12 13 14 15 16 17 18 19 20 21 22 23 24 25 26 27 28 29 30 31 32 33\n",
            " 34 35 36 37 38 39 40 41 42 43 44 45 46 47 48 49 50]\n"
          ]
        }
      ]
    },
    {
      "cell_type": "code",
      "source": [],
      "metadata": {
        "id": "e_ZSq5tGWqFj"
      },
      "execution_count": null,
      "outputs": []
    },
    {
      "cell_type": "code",
      "source": [
        "import numpy as np\n",
        "\n",
        "# Create a 1-D array from 0 to 50\n",
        "array1 = np.arange(51)\n",
        "print(\"Array from 0 to 50:\")\n",
        "print(array1)\n",
        "\n",
        "# Create a 1-D array from 10 to 50\n",
        "array2 = np.arange(10, 51)\n",
        "print(\"\\nArray from 10 to 50:\")\n",
        "print(array2)"
      ],
      "metadata": {
        "id": "Yp6AyDpQWIvX"
      },
      "execution_count": null,
      "outputs": []
    }
  ],
  "metadata": {
    "kernelspec": {
      "display_name": "Python 3",
      "language": "python",
      "name": "python3"
    },
    "language_info": {
      "codemirror_mode": {
        "name": "ipython",
        "version": 3
      },
      "file_extension": ".py",
      "mimetype": "text/x-python",
      "name": "python",
      "nbconvert_exporter": "python",
      "pygments_lexer": "ipython3",
      "version": "3.8.8"
    },
    "colab": {
      "provenance": [],
      "include_colab_link": true
    }
  },
  "nbformat": 4,
  "nbformat_minor": 0
}